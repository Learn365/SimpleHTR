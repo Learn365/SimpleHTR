{
 "cells": [
  {
   "cell_type": "code",
   "execution_count": 13,
   "metadata": {},
   "outputs": [],
   "source": [
    "import random\n",
    "import numpy as np\n",
    "\n",
    "\n",
    "filePath='../data/'\n",
    "maxTextLen=32\n",
    "chars = set()"
   ]
  },
  {
   "cell_type": "code",
   "execution_count": 14,
   "metadata": {},
   "outputs": [
    {
     "name": "stdout",
     "output_type": "stream",
     "text": [
      "['a01-000u-00-00', 'ok', '154', '408', '768', '27', '51', 'AT', 'A']\n",
      "['a01', '000u', '00', '00']\n",
      "../data/words/a01/a01-000u/a01-000u-00-00.png\n",
      "A\n",
      "{'A'}\n"
     ]
    }
   ],
   "source": [
    "line='a01-000u-00-00 ok 154 408 768 27 51 AT A'\n",
    "lineSplit = line.strip().split(' ')\n",
    "print(lineSplit)\n",
    "assert len(lineSplit) >= 9\n",
    "\n",
    "# filename: part1-part2-part3 --> part1/part1-part2/part1-part2-part3.png\n",
    "fileNameSplit = lineSplit[0].split('-')\n",
    "print(fileNameSplit)\n",
    "fileName = filePath + 'words/' + fileNameSplit[0] + '/' + fileNameSplit[0] + '-' + fileNameSplit[1] + '/' + lineSplit[0] + '.png'\n",
    "print(fileName)\n",
    "# GT text are columns starting at 9\n",
    "gtText = ' '.join(lineSplit[8:])[:maxTextLen]\n",
    "print(gtText)\n",
    "chars = chars.union(set(list(gtText)))\n",
    "print(chars)"
   ]
  },
  {
   "cell_type": "code",
   "execution_count": 15,
   "metadata": {},
   "outputs": [
    {
     "name": "stdout",
     "output_type": "stream",
     "text": [
      "['a01-000u-00-01', 'ok', '154', '507', '766', '213', '48', 'NN', 'MOVE']\n",
      "['a01', '000u', '00', '01']\n",
      "../data/words/a01/a01-000u/a01-000u-00-01.png\n",
      "MOVE\n",
      "{'E', 'A', 'O', 'V', 'M'}\n"
     ]
    }
   ],
   "source": [
    "line='a01-000u-00-01 ok 154 507 766 213 48 NN MOVE'\n",
    "lineSplit = line.strip().split(' ')\n",
    "print(lineSplit)\n",
    "assert len(lineSplit) >= 9\n",
    "\n",
    "# filename: part1-part2-part3 --> part1/part1-part2/part1-part2-part3.png\n",
    "fileNameSplit = lineSplit[0].split('-')\n",
    "print(fileNameSplit)\n",
    "fileName = filePath + 'words/' + fileNameSplit[0] + '/' + fileNameSplit[0] + '-' + fileNameSplit[1] + '/' + lineSplit[0] + '.png'\n",
    "print(fileName)\n",
    "# GT text are columns starting at 9\n",
    "gtText = ' '.join(lineSplit[8:])[:maxTextLen]\n",
    "print(gtText)\n",
    "chars = chars.union(set(list(gtText)))\n",
    "print(chars)"
   ]
  },
  {
   "cell_type": "code",
   "execution_count": null,
   "metadata": {},
   "outputs": [],
   "source": []
  }
 ],
 "metadata": {
  "kernelspec": {
   "display_name": "Python 3",
   "language": "python",
   "name": "python3"
  },
  "language_info": {
   "codemirror_mode": {
    "name": "ipython",
    "version": 3
   },
   "file_extension": ".py",
   "mimetype": "text/x-python",
   "name": "python",
   "nbconvert_exporter": "python",
   "pygments_lexer": "ipython3",
   "version": "3.5.2"
  }
 },
 "nbformat": 4,
 "nbformat_minor": 2
}
